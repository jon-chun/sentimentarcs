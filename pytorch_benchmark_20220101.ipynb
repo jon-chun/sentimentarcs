{
  "cells": [
    {
      "cell_type": "markdown",
      "metadata": {
        "id": "view-in-github",
        "colab_type": "text"
      },
      "source": [
        "<a href=\"https://colab.research.google.com/github/jon-chun/sentimentarcs/blob/main/pytorch_benchmark_20220101.ipynb\" target=\"_parent\"><img src=\"https://colab.research.google.com/assets/colab-badge.svg\" alt=\"Open In Colab\"/></a>"
      ]
    },
    {
      "cell_type": "code",
      "execution_count": null,
      "metadata": {
        "id": "2esEvwkE51Es"
      },
      "outputs": [],
      "source": [
        "%matplotlib inline"
      ]
    },
    {
      "cell_type": "markdown",
      "metadata": {
        "id": "Z63QSB3b51Et"
      },
      "source": [
        "\n",
        "PyTorch Benchmark\n",
        "====================================\n",
        "\n",
        "REFERENCES:\n",
        "\n",
        "* https://colab.research.google.com/github/pytorch/tutorials/blob/gh-pages/_downloads/435dbd2c0a0584cd964b8ce750a135ee/benchmark.ipynb\n",
        "\n",
        "\n",
        "This recipe provides a quick-start guide to using PyTorch\n",
        "``benchmark`` module to measure and compare code performance.\n",
        "\n",
        "Introduction\n",
        "------------\n",
        "Benchmarking is an important step in writing code. It helps\n",
        "us validate that our code meets performance expectations,\n",
        "compare different approaches to solving the same problem and\n",
        "prevent performance regressions.\n",
        "\n",
        "There are many options when it comes to benchmarking PyTorch code\n",
        "including the Python builtin ``timeit`` module. However, benchmarking\n",
        "PyTorch code has many caveats that can be easily overlooked such as\n",
        "managing the number of threads and synchronizing CUDA devices. Moreover,\n",
        "generating Tensor inputs for benchmarking can be quite tedious.\n",
        "\n",
        "This recipe demonstrates how to use PyTorch ``benchmark`` module to avoid\n",
        "common mistakes while making it easier to compare performance of\n",
        "different code, generate input for benchmarking and more.\n",
        "\n",
        "Setup\n",
        "-----\n",
        "Before we begin, install ``torch`` if it isn’t already available.\n",
        "\n",
        "::\n",
        "\n",
        "   pip install torch\n",
        "\n",
        "\n"
      ]
    },
    {
      "cell_type": "markdown",
      "metadata": {
        "id": "M30HTrZP51Eu"
      },
      "source": [
        "Steps\n",
        "-----\n",
        "\n",
        "1. Defining functions to benchmark\n",
        "2. Benchmarking with ``timeit.Timer``\n",
        "3. Benchmarking with ``torch.utils.benchmark.Timer``\n",
        "4. Benchmarking with `Blocked Autorange`\n",
        "5. Comparing benchmark results\n",
        "6. Saving/Loading benchmark results\n",
        "7. Generating inputs with `Fuzzed Parameters`\n",
        "8. Collecting instruction counts with `Callgrind`\n",
        "\n",
        "1. Defining functions to benchmark\n",
        "~~~~~~~~~~~~~~~~~~~~~~~~~~~~~~~~~~~~~~~~~~~~~~~~~~~~~~\n",
        "\n",
        "As of the time of this writing, `torch.dot <https://pytorch.org/docs/stable/generated/torch.dot.html?highlight=dot#torch.dot>`__\n",
        "does not support batched mode, so we will compare two approaches to\n",
        "implementing it using existing ``torch`` operators: one approach uses a\n",
        "combination of ``mul`` and ``sum`` while the other reduces the problem to ``bmm``.\n",
        "\n",
        "\n"
      ]
    },
    {
      "cell_type": "code",
      "execution_count": null,
      "metadata": {
        "id": "exLg3DZu51Ev"
      },
      "outputs": [],
      "source": [
        "import torch\n",
        "\n",
        "\n",
        "def batched_dot_mul_sum(a, b):\n",
        "    '''Computes batched dot by multiplying and summing'''\n",
        "    return a.mul(b).sum(-1)\n",
        "\n",
        "\n",
        "def batched_dot_bmm(a, b):\n",
        "    '''Computes batched dot by reducing to bmm'''\n",
        "    a = a.reshape(-1, 1, a.shape[-1])\n",
        "    b = b.reshape(-1, b.shape[-1], 1)\n",
        "    return torch.bmm(a, b).flatten(-3)\n",
        "\n",
        "\n",
        "# Input for benchmarking\n",
        "x = torch.randn(10000, 64)\n",
        "\n",
        "# Ensure that both functions compute the same output\n",
        "assert batched_dot_mul_sum(x, x).allclose(batched_dot_bmm(x, x))"
      ]
    },
    {
      "cell_type": "markdown",
      "metadata": {
        "id": "bMQPg-Nx51Ew"
      },
      "source": [
        "2. Benchmarking with ``timeit.Timer``\n",
        "~~~~~~~~~~~~~~~~~~~~~~~~~~~~~~~~~~~~~~~~~~~~~~\n",
        "\n",
        "First, let's benchmark the code using Python's builtin ``timeit`` module.\n",
        "We keep the benchmark code simple here so we can compare the defaults\n",
        "of ``timeit`` and ``torch.utils.benchmark``.\n",
        "\n",
        "\n"
      ]
    },
    {
      "cell_type": "code",
      "execution_count": null,
      "metadata": {
        "id": "bp-3qCn251Ew"
      },
      "outputs": [],
      "source": [
        "import timeit\n",
        "\n",
        "t0 = timeit.Timer(\n",
        "    stmt='batched_dot_mul_sum(x, x)', \n",
        "    setup='from __main__ import batched_dot_mul_sum',\n",
        "    globals={'x': x})\n",
        "\n",
        "t1 = timeit.Timer(\n",
        "    stmt='batched_dot_bmm(x, x)',\n",
        "    setup='from __main__ import batched_dot_bmm',\n",
        "    globals={'x': x})\n",
        "\n",
        "print(f'mul_sum(x, x):  {t0.timeit(100) / 100 * 1e6:>5.1f} us')\n",
        "print(f'bmm(x, x):      {t1.timeit(100) / 100 * 1e6:>5.1f} us')"
      ]
    },
    {
      "cell_type": "markdown",
      "metadata": {
        "id": "pEg5JDry51Ew"
      },
      "source": [
        ".. code-block:: none\n",
        "   :caption: Output\n",
        "\n",
        "    mul_sum(x, x):  111.6 us\n",
        "    bmm(x, x):       70.0 us\n",
        "\n",
        "\n"
      ]
    },
    {
      "cell_type": "markdown",
      "metadata": {
        "id": "RJUPaKUv51Ex"
      },
      "source": [
        "3. Benchmarking with ``torch.utils.benchmark.Timer``\n",
        "~~~~~~~~~~~~~~~~~~~~~~~~~~~~~~~~~~~~~~~~~~~~~~~~~~~~~~~~~~~~~~\n",
        "\n",
        "PyTorch ``benchmark`` module was designed to be familiar to those who\n",
        "have used the ``timeit`` module before. However, its defaults make it\n",
        "easier and safer to use for benchmarking PyTorch code. Let's first\n",
        "compare the same basic API as above.\n",
        "\n",
        "\n"
      ]
    },
    {
      "cell_type": "code",
      "execution_count": null,
      "metadata": {
        "id": "P8-YT_SP51Ex"
      },
      "outputs": [],
      "source": [
        "import torch.utils.benchmark as benchmark\n",
        "\n",
        "t0 = benchmark.Timer(\n",
        "    stmt='batched_dot_mul_sum(x, x)', \n",
        "    setup='from __main__ import batched_dot_mul_sum',\n",
        "    globals={'x': x})\n",
        "\n",
        "t1 = benchmark.Timer(\n",
        "    stmt='batched_dot_bmm(x, x)',\n",
        "    setup='from __main__ import batched_dot_bmm',\n",
        "    globals={'x': x})\n",
        "\n",
        "print(t0.timeit(100))\n",
        "print(t1.timeit(100))"
      ]
    },
    {
      "cell_type": "markdown",
      "metadata": {
        "id": "qoV0Jbds51Ey"
      },
      "source": [
        ".. code-block:: none\n",
        "   :caption: Output\n",
        "\n",
        "    <torch.utils.benchmark.utils.common.Measurement object at 0x7fb10400d0f0>\n",
        "    batched_dot_mul_sum(x, x)\n",
        "    setup: from __main__ import batched_dot_mul_sum\n",
        "      379.29 us\n",
        "      1 measurement, 100 runs , 1 thread\n",
        "    <torch.utils.benchmark.utils.common.Measurement object at 0x7fb103d67048>\n",
        "    batched_dot_bmm(x, x)\n",
        "    setup: from __main__ import batched_dot_bmm\n",
        "      716.42 us\n",
        "      1 measurement, 100 runs , 1 thread\n",
        "\n",
        "\n"
      ]
    },
    {
      "cell_type": "markdown",
      "metadata": {
        "id": "UWsTbHEV51Ey"
      },
      "source": [
        "Even though the APIs are the same for the basic functionality, there\n",
        "are some important differences. ``benchmark.Timer.timeit()`` returns the\n",
        "time per run as opposed to the total runtime like ``timeit.Timer.timeit()``\n",
        "does. PyTorch ``benchmark`` module also provides formatted string\n",
        "representations for printing the results.\n",
        "\n",
        "Another important difference, and the reason why the results diverge\n",
        "is that PyTorch benchmark module runs in a single thread by default.\n",
        "We can change the number of threads with the num_threads arg.\n",
        "\n",
        "``torch.utils.benchmark.Timer`` takes several additional arguments\n",
        "including: `label`, `sub_label`, `description` and `env` which change\n",
        "the ``__repr__`` of the measurement object returned and are used for\n",
        "grouping the results (more on this later).\n",
        "\n",
        "\n"
      ]
    },
    {
      "cell_type": "code",
      "execution_count": null,
      "metadata": {
        "id": "ec7aeIxM51Ez"
      },
      "outputs": [],
      "source": [
        "num_threads = torch.get_num_threads()\n",
        "print(f'Benchmarking on {num_threads} threads')\n",
        "\n",
        "t0 = benchmark.Timer(\n",
        "    stmt='batched_dot_mul_sum(x, x)', \n",
        "    setup='from __main__ import batched_dot_mul_sum',\n",
        "    globals={'x': x},\n",
        "    num_threads=num_threads,\n",
        "    label='Multithreaded batch dot',\n",
        "    sub_label='Implemented using mul and sum')\n",
        "\n",
        "t1 = benchmark.Timer(\n",
        "    stmt='batched_dot_bmm(x, x)',\n",
        "    setup='from __main__ import batched_dot_bmm',\n",
        "    globals={'x': x},\n",
        "    num_threads=num_threads,\n",
        "    label='Multithreaded batch dot',\n",
        "    sub_label='Implemented using bmm')\n",
        "\n",
        "print(t0.timeit(100))\n",
        "print(t1.timeit(100))"
      ]
    },
    {
      "cell_type": "markdown",
      "metadata": {
        "id": "-1KIsR2151Ez"
      },
      "source": [
        ".. code-block:: none\n",
        "   :caption: Output\n",
        "\n",
        "    Benchmarking on 40 threads\n",
        "    <torch.utils.benchmark.utils.common.Measurement object at 0x7fb103d54080>\n",
        "    Multithreaded batch dot: Implemented using mul and sum\n",
        "    setup: from __main__ import batched_dot_mul_sum\n",
        "      118.47 us\n",
        "      1 measurement, 100 runs , 40 threads\n",
        "    <torch.utils.benchmark.utils.common.Measurement object at 0x7fb16935d2e8>\n",
        "    Multithreaded batch dot: Implemented using bmm\n",
        "    setup: from __main__ import batched_dot_bmm\n",
        "      68.21 us\n",
        "      1 measurement, 100 runs , 40 threads\n",
        "\n"
      ]
    },
    {
      "cell_type": "markdown",
      "metadata": {
        "id": "TSy-tkxy51Ez"
      },
      "source": [
        "Running ``benchmark`` with all threads available gives similar results\n",
        "as the ``timeit`` module. More importantly, which version is faster\n",
        "depends on how many threads we run the code with. This is why it's\n",
        "important to benchmark the code with thread settings that are\n",
        "representative of real use cases. Another important thing to remember\n",
        "is to synchronize CPU and CUDA when benchmarking on the GPU. Let's run\n",
        "the above benchmarks again on a CUDA tensor and see what happens.\n",
        "\n",
        "\n"
      ]
    },
    {
      "cell_type": "code",
      "execution_count": null,
      "metadata": {
        "id": "rHpxxA8x51E0"
      },
      "outputs": [],
      "source": [
        "x = torch.randn(10000, 1024, device='cuda')\n",
        "\n",
        "t0 = timeit.Timer(\n",
        "    stmt='batched_dot_mul_sum(x, x)', \n",
        "    setup='from __main__ import batched_dot_mul_sum',\n",
        "    globals={'x': x})\n",
        "\n",
        "t1 = timeit.Timer(\n",
        "    stmt='batched_dot_bmm(x, x)',\n",
        "    setup='from __main__ import batched_dot_bmm',\n",
        "    globals={'x': x})\n",
        "\n",
        "# Ran each twice to show difference before/after warmup\n",
        "print(f'mul_sum(x, x):  {t0.timeit(100) / 100 * 1e6:>5.1f} us')\n",
        "print(f'mul_sum(x, x):  {t0.timeit(100) / 100 * 1e6:>5.1f} us')\n",
        "print(f'bmm(x, x):      {t1.timeit(100) / 100 * 1e6:>5.1f} us')\n",
        "print(f'bmm(x, x):      {t1.timeit(100) / 100 * 1e6:>5.1f} us')"
      ]
    },
    {
      "cell_type": "markdown",
      "metadata": {
        "id": "30vmp5rN51E0"
      },
      "source": [
        ".. code-block:: none\n",
        "   :caption: Output\n",
        "\n",
        "    mul_sum(x, x):   27.6 us\n",
        "    mul_sum(x, x):   25.3 us\n",
        "    bmm(x, x):      2775.5 us\n",
        "    bmm(x, x):       22.4 us\n",
        "\n",
        "\n"
      ]
    },
    {
      "cell_type": "code",
      "execution_count": null,
      "metadata": {
        "id": "08Eyhu2u51E0"
      },
      "outputs": [],
      "source": [
        "t0 = benchmark.Timer(\n",
        "    stmt='batched_dot_mul_sum(x, x)', \n",
        "    setup='from __main__ import batched_dot_mul_sum',\n",
        "    globals={'x': x})\n",
        "\n",
        "t1 = benchmark.Timer(\n",
        "    stmt='batched_dot_bmm(x, x)',\n",
        "    setup='from __main__ import batched_dot_bmm',\n",
        "    globals={'x': x})\n",
        "\n",
        "# Run only once since benchmark module does warmup for us\n",
        "print(t0.timeit(100))\n",
        "print(t1.timeit(100))"
      ]
    },
    {
      "cell_type": "markdown",
      "metadata": {
        "id": "O_qKsVrg51E1"
      },
      "source": [
        ".. code-block:: none\n",
        "   :caption: Output\n",
        "\n",
        "    <torch.utils.benchmark.utils.common.Measurement object at 0x7fb10400d080>\n",
        "    batched_dot_mul_sum(x, x)\n",
        "    setup: from __main__ import batched_dot_mul_sum\n",
        "      232.93 us\n",
        "      1 measurement, 100 runs , 1 thread\n",
        "    <torch.utils.benchmark.utils.common.Measurement object at 0x7fb10400d0f0>\n",
        "    batched_dot_bmm(x, x)\n",
        "    setup: from __main__ import batched_dot_bmm\n",
        "      181.04 us\n",
        "      1 measurement, 100 runs , 1 thread\n",
        "\n",
        "\n"
      ]
    },
    {
      "cell_type": "markdown",
      "metadata": {
        "id": "Xmv32Lrc51E1"
      },
      "source": [
        "The results reveal something interesting. The first run of the ``bmm``\n",
        "version using the ``timeit`` module takes much longer than the second\n",
        "run. This is because ``bmm`` calls into `cuBLAS` which needs to be\n",
        "loaded the first time it's called which takes some time. This is why\n",
        "it's important to do a warmup run before benchmarking, luckily for\n",
        "us, PyTorch's ``benchmark`` module takes care of that.\n",
        "\n",
        "The difference in the results between ``timeit`` and ``benchmark`` modules\n",
        "is because the `timeit` module is not synchronizing CUDA and is thus only\n",
        "timing the time to launch the kernel. PyTorch's ``benchmark`` module does\n",
        "the synchronization for us.\n",
        "\n"
      ]
    },
    {
      "cell_type": "markdown",
      "metadata": {
        "id": "e7DuuF_N51E1"
      },
      "source": [
        "4. Benchmarking with `Blocked Autorange`\n",
        "~~~~~~~~~~~~~~~~~~~~~~~~~~~~~~~~~~~~~~~~~~~~~~~~~~~~~~~~~~~~~~\n",
        "\n",
        "While ``timeit.Timer.autorange`` takes a single continuous measurement\n",
        "of at least 0.2 seconds, `torch.utils.benchmark.blocked_autorange`\n",
        "takes many measurements whose times total at least 0.2 seconds (which\n",
        "can be changed by the `min_run_time` parameter) subject to the constraint\n",
        "that timing overhead is a small fraction of the overall measurement.\n",
        "This is accomplished by first running with an increasing number of runs\n",
        "per loop until the runtime is much larger than measurement overhead\n",
        "(which also serves as a warm up), and then taking measurements until\n",
        "the target time is reached. This has the useful properties that it wastes\n",
        "less data and allows us to compute statistics to estimate the reliability\n",
        "of the measurements.\n",
        "\n",
        "\n"
      ]
    },
    {
      "cell_type": "code",
      "execution_count": null,
      "metadata": {
        "id": "skzAF6mC51E2"
      },
      "outputs": [],
      "source": [
        "m0 = t0.blocked_autorange()\n",
        "m1 = t1.blocked_autorange()\n",
        "\n",
        "print(m0)\n",
        "print(m1)"
      ]
    },
    {
      "cell_type": "markdown",
      "metadata": {
        "id": "t3HTzPiM51E2"
      },
      "source": [
        ".. code-block:: none\n",
        "   :caption: Output\n",
        "\n",
        "    <torch.utils.benchmark.utils.common.Measurement object at 0x7fb10400d0f0>\n",
        "    batched_dot_mul_sum(x, x)\n",
        "    setup: from __main__ import batched_dot_mul_sum\n",
        "      231.79 us\n",
        "      1 measurement, 1000 runs , 1 thread\n",
        "    <torch.utils.benchmark.utils.common.Measurement object at 0x7fb10400d080>\n",
        "    batched_dot_bmm(x, x)\n",
        "    setup: from __main__ import batched_dot_bmm\n",
        "      Median: 162.08 us\n",
        "      2 measurements, 1000 runs per measurement, 1 thread\n",
        "\n",
        "\n"
      ]
    },
    {
      "cell_type": "markdown",
      "metadata": {
        "id": "TNiIZJcj51E2"
      },
      "source": [
        "We can also inspect the individual statistics from the returned\n",
        "measurements object.\n",
        "\n"
      ]
    },
    {
      "cell_type": "code",
      "execution_count": null,
      "metadata": {
        "id": "tlr-1BAp51E3"
      },
      "outputs": [],
      "source": [
        "print(f\"Mean:   {m0.mean * 1e6:6.2f} us\")\n",
        "print(f\"Median: {m0.median * 1e6:6.2f} us\")"
      ]
    },
    {
      "cell_type": "markdown",
      "metadata": {
        "id": "_WozLQFt51E3"
      },
      "source": [
        ".. code-block:: none\n",
        "   :caption: Output\n",
        "\n",
        "    Mean:   231.79 us\n",
        "    Median: 231.79 us\n",
        "\n",
        "\n"
      ]
    },
    {
      "cell_type": "markdown",
      "metadata": {
        "id": "BUPc3x1351E3"
      },
      "source": [
        "5. Comparing benchmark results\n",
        "~~~~~~~~~~~~~~~~~~~~~~~~~~~~~~~~~~~~~~~~~~~~~~\n",
        "\n",
        "So far we've been comparing our two versions of batched dot against a\n",
        "single input. In practice, we want to try a combination of inputs as\n",
        "well as different number of threads. The ``Compare`` class helps display\n",
        "the results of many measurements in a formatted table. It uses the\n",
        "annotations described above (`label`, `sub_label`, `num_threads`, etc.) as\n",
        "well as `description` to group and organize the table. Let's use\n",
        "``Compare`` to see how our functions perform for different input sizes\n",
        "and number of threads.\n",
        "\n",
        "\n"
      ]
    },
    {
      "cell_type": "code",
      "execution_count": null,
      "metadata": {
        "id": "vWoNhWy_51E3"
      },
      "outputs": [],
      "source": [
        "from itertools import product\n",
        "\n",
        "# Compare takes a list of measurements which we'll save in results.\n",
        "results = []\n",
        "\n",
        "sizes = [1, 64, 1024, 10000]\n",
        "for b, n in product(sizes, sizes):\n",
        "    # label and sub_label are the rows\n",
        "    # description is the column\n",
        "    label = 'Batched dot'\n",
        "    sub_label = f'[{b}, {n}]'\n",
        "    x = torch.ones((b, n))\n",
        "    for num_threads in [1, 4, 16, 32]:\n",
        "        results.append(benchmark.Timer(\n",
        "            stmt='batched_dot_mul_sum(x, x)',\n",
        "            setup='from __main__ import batched_dot_mul_sum',\n",
        "            globals={'x': x},\n",
        "            num_threads=num_threads,\n",
        "            label=label,\n",
        "            sub_label=sub_label,\n",
        "            description='mul/sum',\n",
        "        ).blocked_autorange(min_run_time=1))\n",
        "        results.append(benchmark.Timer(\n",
        "            stmt='batched_dot_bmm(x, x)',\n",
        "            setup='from __main__ import batched_dot_bmm',\n",
        "            globals={'x': x},\n",
        "            num_threads=num_threads,\n",
        "            label=label,\n",
        "            sub_label=sub_label,\n",
        "            description='bmm',\n",
        "        ).blocked_autorange(min_run_time=1))\n",
        "\n",
        "compare = benchmark.Compare(results)\n",
        "compare.print()"
      ]
    },
    {
      "cell_type": "markdown",
      "metadata": {
        "id": "Qxhl-peW51E4"
      },
      "source": [
        ".. code-block:: none\n",
        "   :caption: Output\n",
        "\n",
        "    [--------------- Batched dot ----------------]\n",
        "                          |  mul/sum   |    bmm   \n",
        "    1 threads: -----------------------------------\n",
        "          [1, 1]          |       5.9  |      11.2\n",
        "          [1, 64]         |       6.4  |      11.4\n",
        "          [1, 1024]       |       6.7  |      14.2\n",
        "          [1, 10000]      |      10.2  |      23.7\n",
        "          [64, 1]         |       6.3  |      11.5\n",
        "          [64, 64]        |       8.6  |      15.4\n",
        "          [64, 1024]      |      39.4  |     204.4\n",
        "          [64, 10000]     |     274.9  |     748.5\n",
        "          [1024, 1]       |       7.7  |      17.8\n",
        "          [1024, 64]      |      40.3  |      76.4\n",
        "          [1024, 1024]    |     432.4  |    2795.9\n",
        "          [1024, 10000]   |   22657.3  |   11899.5\n",
        "          [10000, 1]      |      16.9  |      74.8\n",
        "          [10000, 64]     |     300.3  |     609.4\n",
        "          [10000, 1024]   |   23098.6  |   27246.1\n",
        "          [10000, 10000]  |  267073.7  |  118823.7\n",
        "    4 threads: -----------------------------------\n",
        "          [1, 1]          |       6.0  |      11.5\n",
        "          [1, 64]         |       6.2  |      11.2\n",
        "          [1, 1024]       |       6.8  |      14.3\n",
        "          [1, 10000]      |      10.2  |      23.7\n",
        "          [64, 1]         |       6.3  |      16.2\n",
        "          [64, 64]        |       8.8  |      18.2\n",
        "          [64, 1024]      |      41.5  |     189.1\n",
        "          [64, 10000]     |      91.7  |     849.1\n",
        "          [1024, 1]       |       7.6  |      17.4\n",
        "          [1024, 64]      |      43.5  |      33.5\n",
        "          [1024, 1024]    |     135.4  |    2782.3\n",
        "          [1024, 10000]   |    7471.1  |   11874.0\n",
        "          [10000, 1]      |      16.8  |      33.9\n",
        "          [10000, 64]     |     118.7  |     173.2\n",
        "          [10000, 1024]   |    7264.6  |   27824.7\n",
        "          [10000, 10000]  |  100060.9  |  121499.0\n",
        "    16 threads: ----------------------------------\n",
        "          [1, 1]          |       6.0  |      11.3\n",
        "          [1, 64]         |       6.2  |      11.2\n",
        "          [1, 1024]       |       6.9  |      14.2\n",
        "          [1, 10000]      |      10.3  |      23.8\n",
        "          [64, 1]         |       6.4  |      24.1\n",
        "          [64, 64]        |       9.0  |      23.8\n",
        "          [64, 1024]      |      54.1  |     188.5\n",
        "          [64, 10000]     |      49.9  |     748.0\n",
        "          [1024, 1]       |       7.6  |      23.4\n",
        "          [1024, 64]      |      55.5  |      28.2\n",
        "          [1024, 1024]    |      66.9  |    2773.9\n",
        "          [1024, 10000]   |    6111.5  |   12833.7\n",
        "          [10000, 1]      |      16.9  |      27.5\n",
        "          [10000, 64]     |      59.5  |      73.7\n",
        "          [10000, 1024]   |    6295.9  |   27062.0\n",
        "          [10000, 10000]  |   71804.5  |  120365.8\n",
        "    32 threads: ----------------------------------\n",
        "          [1, 1]          |       5.9  |      11.3\n",
        "          [1, 64]         |       6.2  |      11.3\n",
        "          [1, 1024]       |       6.7  |      14.2\n",
        "          [1, 10000]      |      10.5  |      23.8\n",
        "          [64, 1]         |       6.3  |      31.7\n",
        "          [64, 64]        |       9.1  |      30.4\n",
        "          [64, 1024]      |      72.0  |     190.4\n",
        "          [64, 10000]     |     103.1  |     746.9\n",
        "          [1024, 1]       |       7.6  |      28.4\n",
        "          [1024, 64]      |      70.5  |      31.9\n",
        "          [1024, 1024]    |      65.6  |    2804.6\n",
        "          [1024, 10000]   |    6764.0  |   11871.4\n",
        "          [10000, 1]      |      17.8  |      31.8\n",
        "          [10000, 64]     |     110.3  |      56.0\n",
        "          [10000, 1024]   |    6640.2  |   27592.2\n",
        "          [10000, 10000]  |   73003.4  |  120083.2\n",
        "\n",
        "    Times are in microseconds (us).\n",
        "\n",
        "\n"
      ]
    },
    {
      "cell_type": "markdown",
      "metadata": {
        "id": "0KO-E4Tq51E5"
      },
      "source": [
        "The results above indicate that the version which reduces to bmm\n",
        "is better for larger tensors running on multiple threads, while for\n",
        "smaller and/or single thread code, the other version is better.\n",
        "\n",
        "``Compare`` also provides functions for changing the table format\n",
        "\n",
        "\n"
      ]
    },
    {
      "cell_type": "code",
      "execution_count": null,
      "metadata": {
        "id": "hDnWJS-M51E5"
      },
      "outputs": [],
      "source": [
        "compare.trim_significant_figures()\n",
        "compare.colorize()\n",
        "compare.print()"
      ]
    },
    {
      "cell_type": "markdown",
      "metadata": {
        "id": "VszJqoKt51E5"
      },
      "source": [
        "6. Saving/Loading benchmark results\n",
        "~~~~~~~~~~~~~~~~~~~~~~~~~~~~~~~~~~~~~~~~~~~~~~\n",
        "\n",
        "`Measurements` (and `CallgrindStats` which are described in section 8)\n",
        "are pickleable. This makes A/B testing easy, as you can collect\n",
        "measurements from two separate environments, pickle them, and then\n",
        "load both in a single environment. Timer even takes an `env`\n",
        "constructor argument so that such A/B testing works seamlessly.\n",
        "\n",
        "Let's imagine that rather than two Python functions, the add/sum\n",
        "and bmm approaches were in two different builds of PyTorch.\n",
        "The example below demonstrates how one might A/B test them. For\n",
        "simplicity, we only use a subset of shapes, and simply round trip\n",
        "results through pickle rather than actually using multiple environments\n",
        "and writing results to disk.\n",
        "\n",
        "\n"
      ]
    },
    {
      "cell_type": "code",
      "execution_count": null,
      "metadata": {
        "id": "sWpyax5a51E5"
      },
      "outputs": [],
      "source": [
        "import pickle\n",
        "\n",
        "ab_test_results = []\n",
        "for env in ('environment A: mul/sum', 'environment B: bmm'):\n",
        "    for b, n in ((1, 1), (1024, 10000), (10000, 1)):\n",
        "        x = torch.ones((b, n))\n",
        "        dot_fn = (batched_dot_mul_sum if env == 'environment A: mul/sum' else batched_dot_bmm)\n",
        "        m = benchmark.Timer(\n",
        "            stmt='batched_dot(x, x)',\n",
        "            globals={'x': x, 'batched_dot': dot_fn},\n",
        "            num_threads=1,\n",
        "            label='Batched dot',\n",
        "            description=f'[{b}, {n}]',\n",
        "            env=env,\n",
        "        ).blocked_autorange(min_run_time=1)\n",
        "        ab_test_results.append(pickle.dumps(m))\n",
        "\n",
        "ab_results = [pickle.loads(i) for i in ab_test_results]\n",
        "compare = benchmark.Compare(ab_results)\n",
        "compare.trim_significant_figures()\n",
        "compare.colorize()\n",
        "compare.print()"
      ]
    },
    {
      "cell_type": "markdown",
      "metadata": {
        "id": "AFQpwbYM51E6"
      },
      "source": [
        ".. code-block:: none\n",
        "   :caption: Output\n",
        "\n",
        "    [------------------------------------- Batched dot -------------------------------------]\n",
        "                                                   |  [1, 1]  |  [1024, 10000]  |  [10000, 1]\n",
        "    1 threads: ------------------------------------------------------------------------------\n",
        "      (environment A: mul/sum)  batched_dot(x, x)  |     7    |      36000      |      21\n",
        "      (environment B: bmm)      batched_dot(x, x)  |    14    |      40000      |      85\n",
        "\n",
        "    Times are in microseconds (us).\n",
        "\n",
        "\n"
      ]
    },
    {
      "cell_type": "code",
      "execution_count": null,
      "metadata": {
        "id": "2DijMpZ751E6"
      },
      "outputs": [],
      "source": [
        "# And just to show that we can round trip all of the results from earlier:\n",
        "round_tripped_results = pickle.loads(pickle.dumps(results))\n",
        "assert(str(benchmark.Compare(results)) == str(benchmark.Compare(round_tripped_results)))"
      ]
    },
    {
      "cell_type": "markdown",
      "metadata": {
        "id": "KMeHoz4i51E6"
      },
      "source": [
        "7. Generating inputs with `Fuzzed Parameters`\n",
        "~~~~~~~~~~~~~~~~~~~~~~~~~~~~~~~~~~~~~~~~~~~~~~\n",
        "\n",
        "As we've seen in the previous section, there can be some stark\n",
        "performance differences depending on the input tensors. Hence, it\n",
        "is a good idea to run benchmarks on a number of different inputs.\n",
        "However, creating all these input tensors can be tedious which is\n",
        "where ``torch.utils.benchmark.Fuzzer`` and related classes come in.\n",
        "Let's take a look at how we can use the Fuzzer to create some test\n",
        "cases for the benchmark.\n",
        "\n",
        "\n"
      ]
    },
    {
      "cell_type": "code",
      "execution_count": null,
      "metadata": {
        "id": "ePG4yU4L51E7"
      },
      "outputs": [],
      "source": [
        "from torch.utils.benchmark import Fuzzer, FuzzedParameter, FuzzedTensor, ParameterAlias\n",
        "\n",
        "# Generates random tensors with 128 to 10000000 elements and sizes k0 and k1 chosen from a\n",
        "# loguniform distribution in [1, 10000], 40% of which will be discontiguous on average.\n",
        "example_fuzzer = Fuzzer(\n",
        "    parameters = [\n",
        "        FuzzedParameter('k0', minval=1, maxval=10000, distribution='loguniform'),\n",
        "        FuzzedParameter('k1', minval=1, maxval=10000, distribution='loguniform'),\n",
        "    ],\n",
        "    tensors = [\n",
        "        FuzzedTensor('x', size=('k0', 'k1'), min_elements=128, max_elements=10000000, probability_contiguous=0.6)\n",
        "    ],\n",
        "    seed=0,\n",
        ")\n",
        "\n",
        "results = []\n",
        "for tensors, tensor_params, params in example_fuzzer.take(10):\n",
        "    # description is the column label\n",
        "    sub_label=f\"{params['k0']:<6} x {params['k1']:<4} {'' if tensor_params['x']['is_contiguous'] else '(discontiguous)'}\"\n",
        "    results.append(benchmark.Timer(\n",
        "        stmt='batched_dot_mul_sum(x, x)',\n",
        "        setup='from __main__ import batched_dot_mul_sum',\n",
        "        globals=tensors,\n",
        "        label='Batched dot',\n",
        "        sub_label=sub_label,\n",
        "        description='mul/sum',\n",
        "    ).blocked_autorange(min_run_time=1))\n",
        "    results.append(benchmark.Timer(\n",
        "        stmt='batched_dot_bmm(x, x)',\n",
        "        setup='from __main__ import batched_dot_bmm',\n",
        "        globals=tensors,\n",
        "        label='Batched dot',\n",
        "        sub_label=sub_label,\n",
        "        description='bmm',\n",
        "    ).blocked_autorange(min_run_time=1))\n",
        "\n",
        "compare = benchmark.Compare(results)\n",
        "compare.trim_significant_figures()\n",
        "compare.print()"
      ]
    },
    {
      "cell_type": "markdown",
      "metadata": {
        "id": "_CY9T9Cj51E7"
      },
      "source": [
        ".. code-block:: none\n",
        "   :caption: Output\n",
        "\n",
        "    [--------------------- Batched dot ---------------------]\n",
        "                                         |  mul/sum  |   bmm \n",
        "    1 threads: ----------------------------------------------\n",
        "          725    x 257                   |      87   |    180\n",
        "          49     x 383                   |      15   |     30\n",
        "          34     x 1468                  |      30   |    118\n",
        "          187    x 5039                  |     400   |   1200\n",
        "          2140   x 1296 (discontiguous)  |    2000   |  41000\n",
        "          78     x 1598                  |      74   |    310\n",
        "          519    x 763                   |     190   |   1500\n",
        "          141    x 1082                  |      87   |    500\n",
        "          78     x 5    (discontiguous)  |       9   |     20\n",
        "          187    x 1                     |      12   |     10\n",
        "\n",
        "    Times are in microseconds (us). \n",
        "\n",
        "\n"
      ]
    },
    {
      "cell_type": "markdown",
      "metadata": {
        "id": "8Ot5hyna51E7"
      },
      "source": [
        "There is a lot of flexibility for defining your own Fuzzers which\n",
        "is great for creating a powerful set of inputs to benchmark. But to\n",
        "make things even simpler, PyTorch benchmark module comes with some\n",
        "buitin Fuzzers for common benchmarking needs. Let's take a look at\n",
        "how we can use one of these builtin fuzzers.\n",
        "\n",
        "\n"
      ]
    },
    {
      "cell_type": "code",
      "execution_count": null,
      "metadata": {
        "id": "m_DZAucA51E7"
      },
      "outputs": [],
      "source": [
        "from torch.utils.benchmark.op_fuzzers import binary\n",
        "\n",
        "results = []\n",
        "for tensors, tensor_params, params in binary.BinaryOpFuzzer(seed=0).take(10):\n",
        "    sub_label=f\"{params['k0']:<6} x {params['k1']:<4} {'' if tensor_params['x']['is_contiguous'] else '(discontiguous)'}\"\n",
        "    results.append(benchmark.Timer(\n",
        "        stmt='batched_dot_mul_sum(x, x)',\n",
        "        setup='from __main__ import batched_dot_mul_sum',\n",
        "        globals=tensors,\n",
        "        label='Batched dot',\n",
        "        sub_label=sub_label,\n",
        "        description='mul/sum',\n",
        "    ).blocked_autorange(min_run_time=1))\n",
        "    results.append(benchmark.Timer(\n",
        "        stmt='batched_dot_bmm(x, x)',\n",
        "        setup='from __main__ import batched_dot_bmm',\n",
        "        globals=tensors,\n",
        "        label='Batched dot',\n",
        "        sub_label=sub_label,\n",
        "        description='bmm',\n",
        "    ).blocked_autorange(min_run_time=1))\n",
        "\n",
        "compare = benchmark.Compare(results)\n",
        "compare.trim_significant_figures()\n",
        "compare.colorize(rowwise=True)\n",
        "compare.print()"
      ]
    },
    {
      "cell_type": "markdown",
      "metadata": {
        "id": "eHsCGx1751E7"
      },
      "source": [
        ".. code-block:: none\n",
        "   :caption: Output\n",
        "\n",
        "    [----------------------- Batched dot ------------------------]\n",
        "                                             |  mul/sum  |   bmm  \n",
        "    1 threads: ---------------------------------------------------\n",
        "          64     x 473  (discontiguous)      |    10000  |   40000\n",
        "          16384  x 12642115 (discontiguous)  |       31  |      78\n",
        "          8192   x 892                       |     4800  |   20400\n",
        "          512    x 64   (discontiguous)      |   110000  |  400000\n",
        "          493    x 27   (discontiguous)      |     1100  |    2440\n",
        "          118    x 32   (discontiguous)      |      870  |    2030\n",
        "          16     x 495  (discontiguous)      |    23600  |   24000\n",
        "          488    x 62374                     |    90000  |  100000\n",
        "          240372 x 69                        |    40000  |   16000\n",
        "          40156  x 32   (discontiguous)      |     2670  |    5000\n",
        "\n",
        "    Times are in microseconds (us).\n",
        "\n",
        "\n"
      ]
    },
    {
      "cell_type": "markdown",
      "metadata": {
        "id": "SmCB1zTg51E8"
      },
      "source": [
        "8. Collecting instruction counts with `Callgrind`\n",
        "~~~~~~~~~~~~~~~~~~~~~~~~~~~~~~~~~~~~~~~~~~~~~~\n",
        "\n",
        "One of the challenges of optimizing code is the variation and opacity of\n",
        "wall time. There are many sources of non-determinism, from adaptive clock\n",
        "speeds to resource contention with other processes. Furthermore, end-to-end\n",
        "time gives no insight into where time is being spent, which is really what\n",
        "we're interested in when optimizing code.\n",
        "\n",
        "A complementary approach is to also collect instruction counts. These counts\n",
        "are a proxy metric and do not capture all aspects of performance\n",
        "(e.g. memory or I/O bound tasks), however they do have several useful\n",
        "properties. Instruction counts are reproducible, insensitive to environmental\n",
        "variation, and offer fine grained insight into where a program is spending\n",
        "cycles.\n",
        "\n",
        "To see the utility of instruction counts, let us look at how we might\n",
        "reduce the overhead of `batched_dot_mul_sum`. The obvious solution is to\n",
        "move it to C++, so we avoid going between Python and C++ multiple times.\n",
        "\n",
        "Fortunately, the source is nearly identical. One question that we have to ask\n",
        "in C++ is whether we should take arguments by value or reference.\n",
        "\n",
        "\n"
      ]
    },
    {
      "cell_type": "code",
      "execution_count": null,
      "metadata": {
        "id": "iuBJ1P4851E8"
      },
      "outputs": [],
      "source": [
        "batched_dot_src = \"\"\"\\\n",
        "/* ---- Python ---- */\n",
        "// def batched_dot_mul_sum(a, b):\n",
        "//     return a.mul(b).sum(-1)\n",
        "\n",
        "torch::Tensor batched_dot_mul_sum_v0(\n",
        "    const torch::Tensor a,\n",
        "    const torch::Tensor b) {\n",
        "  return a.mul(b).sum(-1);\n",
        "}\n",
        "\n",
        "torch::Tensor batched_dot_mul_sum_v1(\n",
        "    const torch::Tensor& a,\n",
        "    const torch::Tensor& b) {\n",
        "  return a.mul(b).sum(-1);\n",
        "}\n",
        "\"\"\"\n",
        "\n",
        "\n",
        "# PyTorch makes it easy to test our C++ implementations by providing a utility\n",
        "# to JIT compile C++ source into Python extensions:\n",
        "import os\n",
        "from torch.utils import cpp_extension\n",
        "cpp_lib = cpp_extension.load_inline(\n",
        "    name='cpp_lib',\n",
        "    cpp_sources=batched_dot_src,\n",
        "    extra_cflags=['-O3'],\n",
        "    extra_include_paths=[\n",
        "        # `load_inline` needs to know where to find Pybind11 headers.\n",
        "        os.path.join(os.getenv('CONDA_PREFIX'), 'include')\n",
        "    ],\n",
        "    functions=['batched_dot_mul_sum_v0', 'batched_dot_mul_sum_v1']\n",
        ")\n",
        "\n",
        "# `load_inline` will create a shared object that is loaded into Python. When we collect\n",
        "# instruction counts Timer will create a subprocess, so we need to re-import it. The\n",
        "# import process is slightly more complicated for C extensions, but that's all we're\n",
        "# doing here.\n",
        "module_import_str = f\"\"\"\\\n",
        "# https://stackoverflow.com/questions/67631/how-to-import-a-module-given-the-full-path\n",
        "import importlib.util\n",
        "spec = importlib.util.spec_from_file_location(\"cpp_lib\", {repr(cpp_lib.__file__)})\n",
        "cpp_lib = importlib.util.module_from_spec(spec)\n",
        "spec.loader.exec_module(cpp_lib)\"\"\"\n",
        "\n",
        "import textwrap\n",
        "def pretty_print(result):\n",
        "    \"\"\"Import machinery for cpp_lib.so can get repetitive to look at.\"\"\"\n",
        "    print(repr(result).replace(textwrap.indent(module_import_str, \"  \"), \"  import cpp_lib\"))\n",
        "\n",
        "\n",
        "t_baseline = benchmark.Timer(\n",
        "    stmt='batched_dot_mul_sum(x, x)',\n",
        "    setup='''\\\n",
        "from __main__ import batched_dot_mul_sum\n",
        "x = torch.randn(2, 2)''')\n",
        "\n",
        "t0 = benchmark.Timer(\n",
        "    stmt='cpp_lib.batched_dot_mul_sum_v0(x, x)',\n",
        "    setup=f'''\\\n",
        "{module_import_str}\n",
        "x = torch.randn(2, 2)''')\n",
        "\n",
        "t1 = benchmark.Timer(\n",
        "    stmt='cpp_lib.batched_dot_mul_sum_v1(x, x)',\n",
        "    setup=f'''\\\n",
        "{module_import_str}\n",
        "x = torch.randn(2, 2)''')\n",
        "\n",
        "# Moving to C++ did indeed reduce overhead, but it's hard to tell which\n",
        "# calling convention is more efficient. v1 (call with references) seems to\n",
        "# be a bit faster, but it's within measurement error.\n",
        "pretty_print(t_baseline.blocked_autorange())\n",
        "pretty_print(t0.blocked_autorange())\n",
        "pretty_print(t1.blocked_autorange())"
      ]
    },
    {
      "cell_type": "markdown",
      "metadata": {
        "id": "rc9XwvEd51E9"
      },
      "source": [
        ".. code-block:: none\n",
        "   :caption: Output\n",
        "\n",
        "    <torch.utils.benchmark.utils.common.Measurement object at 0x7fb16935d2e8>\n",
        "    batched_dot_mul_sum(x, x)\n",
        "    setup:\n",
        "      from __main__ import batched_dot_mul_sum\n",
        "      x = torch.randn(2, 2)\n",
        "\n",
        "      6.92 us\n",
        "      1 measurement, 100000 runs , 1 thread\n",
        "    <torch.utils.benchmark.utils.common.Measurement object at 0x7fb16935d2e8>\n",
        "    cpp_lib.batched_dot_mul_sum_v0(x, x)\n",
        "    setup:\n",
        "      import cpp_lib\n",
        "      x = torch.randn(2, 2)\n",
        "\n",
        "      5.29 us\n",
        "      1 measurement, 100000 runs , 1 thread\n",
        "    <torch.utils.benchmark.utils.common.Measurement object at 0x7fb16935d2e8>\n",
        "    cpp_lib.batched_dot_mul_sum_v1(x, x)\n",
        "    setup:\n",
        "      import cpp_lib\n",
        "      x = torch.randn(2, 2)\n",
        "\n",
        "      5.22 us\n",
        "      1 measurement, 100000 runs , 1 thread\n",
        "\n",
        "\n"
      ]
    },
    {
      "cell_type": "code",
      "execution_count": null,
      "metadata": {
        "id": "7duWPvjm51E9"
      },
      "outputs": [],
      "source": [
        "# Let's use Callgrind to determine which is better.\n",
        "stats_v0 = t0.collect_callgrind()\n",
        "stats_v1 = t1.collect_callgrind()\n",
        "\n",
        "pretty_print(stats_v0)\n",
        "pretty_print(stats_v1)\n",
        "\n",
        "# `.as_standardized` removes file names and some path prefixes, and makes\n",
        "# it easier to read the function symbols.\n",
        "stats_v0 = stats_v0.as_standardized()\n",
        "stats_v1 = stats_v1.as_standardized()\n",
        "\n",
        "# `.delta` diffs the instruction counts, and `.denoise` removes several\n",
        "# functions in the Python interpreter that are known to have significant\n",
        "# jitter.\n",
        "delta = stats_v1.delta(stats_v0).denoise()\n",
        "\n",
        "# `.transform` is a convenience API for transforming function names. It is\n",
        "# useful for increasing cancelation when diff-ing instructions, as well as\n",
        "# just generally improving readability.\n",
        "replacements = (\n",
        "    (\"???:void pybind11\", \"pybind11\"),\n",
        "    (\"batched_dot_mul_sum_v0\", \"batched_dot_mul_sum_v1\"),\n",
        "    (\"at::Tensor, at::Tensor\", \"...\"),\n",
        "    (\"at::Tensor const&, at::Tensor const&\", \"...\"),\n",
        "    (\"auto torch::detail::wrap_pybind_function_impl_\", \"wrap_pybind_function_impl_\"),\n",
        ")\n",
        "for before, after in replacements:\n",
        "    delta = delta.transform(lambda l: l.replace(before, after))\n",
        "\n",
        "# We can use print options to control how much of the function to display.\n",
        "torch.set_printoptions(linewidth=160)\n",
        "\n",
        "# Once parsed, the instruction counts make clear that passing `a` and `b`\n",
        "# by reference is more efficient as it skips some c10::TensorImpl bookkeeping\n",
        "# for the intermediate Tensors, and is also works better with PyBind11. This\n",
        "# is consistent with our noisy wall time observations.\n",
        "print(delta)"
      ]
    },
    {
      "cell_type": "markdown",
      "metadata": {
        "id": "JDqR_0wr51E9"
      },
      "source": [
        ".. code-block:: none\n",
        "   :caption: Output\n",
        "\n",
        "    <torch.utils.benchmark.utils.valgrind_wrapper.timer_interface.CallgrindStats object at 0x7fb0f06e7630>\n",
        "    cpp_lib.batched_dot_mul_sum_v0(x, x)\n",
        "    setup:\n",
        "      import cpp_lib\n",
        "      x = torch.randn(2, 2)\n",
        "\n",
        "                               All          Noisy symbols removed\n",
        "        Instructions:      2392671                    2392671\n",
        "        Baseline:             4367                       4367\n",
        "    100 runs per measurement, 1 thread\n",
        "    Warning: PyTorch was not built with debug symbols.\n",
        "             Source information may be limited. Rebuild with\n",
        "             REL_WITH_DEB_INFO=1 for more detailed results.\n",
        "    <torch.utils.benchmark.utils.valgrind_wrapper.timer_interface.CallgrindStats object at 0x7fb10400d208>\n",
        "    cpp_lib.batched_dot_mul_sum_v1(x, x)\n",
        "    setup:\n",
        "      import cpp_lib\n",
        "      x = torch.randn(2, 2)\n",
        "\n",
        "                               All          Noisy symbols removed\n",
        "        Instructions:      2378978                    2378978\n",
        "        Baseline:             4367                       4367\n",
        "        100 runs per measurement, 1 thread\n",
        "        Warning: PyTorch was not built with debug symbols.\n",
        "                 Source information may be limited. Rebuild with\n",
        "                 REL_WITH_DEB_INFO=1 for more detailed results.\n",
        "        <torch.utils.benchmark.utils.valgrind_wrapper.timer_interface.FunctionCounts object at 0x7fb1000ab358>\n",
        "              86  ???:0x000000000020d9e0\n",
        "          56  ???:0x000000000020db10\n",
        "       -1100  pybind11::cpp_function::initialize<wrap_pybind_function_impl_<at::Tensor ... r (&)(...), std::integer_sequence<unsigned long, 0ul, 1ul>)::{lambda(...)\n",
        "       -1600  ???:wrap_pybind_function_impl_<at::Tensor (&)(...), 0ul, 1ul>(at::Tensor (&)(...), std::integer_sequence<unsigned long, 0ul, 1ul>)::{lambda(...)\n",
        "       -5200  ???:c10::intrusive_ptr<c10::TensorImpl, c10::UndefinedTensorImpl>::reset_()\n",
        "       -5935  ???:0x000000000022c0e0\n",
        "\n",
        "    Total: -13693\n",
        "\n",
        "\n"
      ]
    },
    {
      "cell_type": "markdown",
      "metadata": {
        "id": "DBgbUjJh51E9"
      },
      "source": [
        "Learn More\n",
        "----------\n",
        "\n",
        "Take a look at these other recipes to continue your learning:\n",
        "\n",
        "-  `PyTorch Profiler <https://pytorch.org/tutorials/recipes/recipes/profiler.html>`_\n",
        "\n",
        "\n"
      ]
    }
  ],
  "metadata": {
    "kernelspec": {
      "display_name": "Python 3",
      "language": "python",
      "name": "python3"
    },
    "language_info": {
      "codemirror_mode": {
        "name": "ipython",
        "version": 3
      },
      "file_extension": ".py",
      "mimetype": "text/x-python",
      "name": "python",
      "nbconvert_exporter": "python",
      "pygments_lexer": "ipython3",
      "version": "3.6.13"
    },
    "colab": {
      "name": "pytorch_benchmark_20220101.ipynb",
      "provenance": [],
      "collapsed_sections": [],
      "include_colab_link": true
    }
  },
  "nbformat": 4,
  "nbformat_minor": 0
}