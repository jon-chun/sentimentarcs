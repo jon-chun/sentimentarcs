{
  "nbformat": 4,
  "nbformat_minor": 0,
  "metadata": {
    "colab": {
      "name": "ts_dtw_classification_clustering_20211203.ipynb",
      "provenance": [],
      "collapsed_sections": [],
      "include_colab_link": true
    }
  },
  "cells": [
    {
      "cell_type": "markdown",
      "metadata": {
        "id": "view-in-github",
        "colab_type": "text"
      },
      "source": [
        "<a href=\"https://colab.research.google.com/github/jon-chun/sentimentarcs/blob/main/ts_dtw_classification_clustering_20211203.ipynb\" target=\"_parent\"><img src=\"https://colab.research.google.com/assets/colab-badge.svg\" alt=\"Open In Colab\"/></a>"
      ]
    },
    {
      "cell_type": "markdown",
      "metadata": {
        "id": "A03WdT8SClOY"
      },
      "source": [
        "#Time Series Classification and Clustering\n",
        "\n",
        "Notebooks\n",
        "\n",
        "* https://colab.research.google.com/github/tensorflow/graphics/blob/master/tensorflow_graphics/notebooks/interpolation.ipynb\n",
        "\n",
        "* https://primer-computational-mathematics.github.io/book/c_mathematics/numerical_methods/1_Interpolation_curve_fitting.html\n",
        "\n",
        "* https://cocalc.com/share/public_paths/a8f8093a546568d2c3f855bcfbc389998111ca85\n",
        "\n",
        "* https://scipy-lectures.org/intro/scipy/auto_examples/plot_interpolation.html\n",
        "\n",
        "* https://www.southampton.ac.uk/~fangohr/teaching/python/book/html/16-scipy.html\n",
        "\n",
        "* https://colab.research.google.com/github/restrepo/ComputationalMethods/blob/master/material/interpolation.ipynb#scrollTo=vWJZfq_YEZWe (Interpolation)\n",
        "\n",
        "Libraries\n",
        "\n",
        "* https://github.com/MaxBenChrist/awesome_time_series_in_python\n",
        "\n",
        "* https://github.com/wannesm/dtaidistance\n",
        "\n",
        "* https://github.com/matrix-profile-foundation/matrixprofile\n",
        "\n",
        "* https://khiva.readthedocs.io/en/latest/api/main.html (GPU)\n",
        "\n",
        "* https://github.com/alexminnaar/time-series-classification-and-clustering (2016)\n",
        "\n",
        "* https://nbviewer.org/github/alexminnaar/time-series-classification-and-clustering/blob/master/Time%20Series%20Classification%20and%20Clustering.ipynb\n",
        "\n",
        "* https://github.com/masatakashiwagi/analysis-tslearn/blob/master/clustering_waveform_using_kshape.ipynb (tslearn.clustering)\n",
        "\n",
        "* https://github.com/FZJ-IEK3-VSA/tsam (tsam)\n",
        "\n",
        "* https://deeptime-ml.github.io/latest/index_examples.html (deeptime)\n",
        "\n",
        "* https://github.com/pyvista/pyvista (3D Mesh) \n",
        "* https://docs.pyvista.org/examples/01-filter/interpolate.html (3D Interpolation)\n",
        "\n",
        "\n",
        "\n",
        "R Libraries\n",
        "\n",
        "* https://github.com/asardaes/dtwclust\n",
        "\n",
        "Forecasting\n",
        "\n",
        "* https://github.com/travel-code-sleep/time-series-forecasting-and-erc20-workshop\n",
        "\n",
        "* https://github.com/nckwhiteley/volatility-change-points (real-time change point updates) https://arxiv.org/abs/1906.10372\n",
        "\n",
        "Math/Stat\n",
        "\n",
        "* https://github.com/zeroknowledgediscovery/timesmash (Universal similarity amongst arbitrary data streams without a priori knowledge, features, or training. Can be used to solve time series clustering and classification problems Featurization algorithms: SymbolicDerivative, InferredHMMLikelihood, Csmash. Distance measure: LikelihoodDistance)\n",
        "\n",
        "* https://fda.readthedocs.io/en/stable/ and file:///C:/Users/chunj/AppData/Local/Temp/marcos_manch%C3%B3n_pablo_tfg.pdf \n",
        "\n",
        "* https://buildmedia.readthedocs.org/media/pdf/splines/guzzle/splines.pdf\n",
        "* https://splines.readthedocs.io/_/downloads/en/latest/pdf/\n",
        "\n",
        "Papers/Review\n",
        "\n",
        "* https://openreview.net/forum?id=3UTezOEABr (NeurIPS TimeAutoML: Autonomous Representation Learning for Multivariate Irregularly Sampled Time Series)\n",
        "\n",
        "\n",
        "\n"
      ]
    },
    {
      "cell_type": "markdown",
      "metadata": {
        "id": "cp5DephZClOf"
      },
      "source": [
        "In a typical classification problem you are given a set of input features and a set of discrete output classes and you want to model the relationship between the two.  There is a myriad of classification algorithms that you could use for this problem - SVMs, Naive Bayes, k-NN, etc.  But what if the input features are not independent such as with time series data?  In this case SVMs and Naive Bayes would not be a good choice since they assume that the input features are independent.  The k-NN algorithm could still work however it relies on the notion of a similarity measure between input examples.  Now the question becomes _how do we measure the similarity between two time series_?"
      ]
    },
    {
      "cell_type": "markdown",
      "metadata": {
        "id": "8hf-HgeqClOh"
      },
      "source": [
        "##How about Euclidean distance?"
      ]
    },
    {
      "cell_type": "markdown",
      "metadata": {
        "id": "RqPVKTQWClOi"
      },
      "source": [
        "The Euclidean distance between two time series $Q$ and $C$ of length $n$ is defined as\n",
        "\n",
        "$$d(Q,C) = \\sqrt{\\sum^n_{i=1}[Q(i)-C(i)]^2}$$\n",
        "\n",
        "At first glance, it seems like simply calculating the Euclidean distance between two time series would give us a good idea of the similarity between them.  After all, the Euclidean distance between identical time series is zero and the Euclidean distance between very different time series is large.  However, before we settle on Euclidean distance as a similarity measure we should clearly state our desired criteria for determining the similarity between two time series "
      ]
    },
    {
      "cell_type": "markdown",
      "metadata": {
        "id": "SkwofZhfClOk"
      },
      "source": [
        "With a good similarity measure, small changes in two time series should result in small changes in their similarity.  With respect to Euclidean distance this is true for changes in the y-axis, but it is not true for changes in the time axis (i.e. compression and stretching).  Consider the following example."
      ]
    },
    {
      "cell_type": "code",
      "metadata": {
        "id": "frgdUg1SClOk",
        "outputId": "98e0cb78-ef55-4b04-c64f-022181d7f3dd"
      },
      "source": [
        "import pandas as pd\n",
        "import numpy as np\n",
        "import matplotlib.pylab as plt\n",
        "\n",
        "x=np.linspace(0,50,100)\n",
        "ts1=pd.Series(3.1*np.sin(x/1.5)+3.5)\n",
        "ts2=pd.Series(2.2*np.sin(x/3.5+2.4)+3.2)\n",
        "ts3=pd.Series(0.04*x+3.0)\n",
        "\n",
        "ts1.plot()\n",
        "ts2.plot()\n",
        "ts3.plot()\n",
        "\n",
        "plt.ylim(-2,10)\n",
        "plt.legend(['ts1','ts2','ts3'])\n",
        "plt.show()"
      ],
      "execution_count": null,
      "outputs": [
        {
          "output_type": "display_data",
          "data": {}
        }
      ]
    },
    {
      "cell_type": "markdown",
      "metadata": {
        "id": "9EpB3VUSClOo"
      },
      "source": [
        "In the above example, it is clear that $ts1$ and $ts2$ are most similar (they are both $sin$ functions under different transformations).  $ts3$ is clearly the most different. Let's compute the Euclidean distance $d(ts1,ts2)$ and $d(ts1,ts3)$ to see if the Euclidean distance measure agrees with what our intuition tells us.  Let's first create a function that computes the Euclidean distance between two time series."
      ]
    },
    {
      "cell_type": "code",
      "metadata": {
        "id": "65ap-bARClOp"
      },
      "source": [
        "def euclid_dist(t1,t2):\n",
        "    return sqrt(sum((t1-t2)**2))"
      ],
      "execution_count": null,
      "outputs": []
    },
    {
      "cell_type": "markdown",
      "metadata": {
        "id": "KwfLxnrhClOp"
      },
      "source": [
        "Let's now find the Euclidean distance between $ts1$ and $ts2$"
      ]
    },
    {
      "cell_type": "code",
      "metadata": {
        "id": "JBUGiVjLClOq",
        "outputId": "5d414a63-30e7-45aa-e17d-2c2fdf158a1d"
      },
      "source": [
        "print euclid_dist(ts1,ts2)"
      ],
      "execution_count": null,
      "outputs": [
        {
          "output_type": "stream",
          "text": [
            "26.959216038\n"
          ],
          "name": "stdout"
        }
      ]
    },
    {
      "cell_type": "markdown",
      "metadata": {
        "id": "iThQ9xNhClOs"
      },
      "source": [
        "and the Euclidean distance between $ts1$ and $ts3$"
      ]
    },
    {
      "cell_type": "code",
      "metadata": {
        "id": "Xo09nQRQClOt",
        "outputId": "edb1a4c9-251a-4b54-9a28-3f5936f9e46c"
      },
      "source": [
        "print euclid_dist(ts1,ts3)"
      ],
      "execution_count": null,
      "outputs": [
        {
          "output_type": "stream",
          "text": [
            "23.1892491903\n"
          ],
          "name": "stdout"
        }
      ]
    },
    {
      "cell_type": "markdown",
      "metadata": {
        "id": "n3ZjYQugClOu"
      },
      "source": [
        "This is not good because according to the Euclidean distance measure, $ts1$ is more similar to $ts3$ than to $ts2$ which contradicts our intuition.  This is the problem with using the Euclidean distance measure.  It often produced pessimistic similarity measures when it encounters distortion in the time axis.  The way to deal with this is to use dynamic time warping."
      ]
    },
    {
      "cell_type": "markdown",
      "metadata": {
        "id": "TWYEHxkqClOu"
      },
      "source": [
        "##Dynamic Time Warping"
      ]
    },
    {
      "cell_type": "markdown",
      "metadata": {
        "id": "wwYevHQVClOv"
      },
      "source": [
        "Dynamic time warping finds the optimal non-linear alignment between two time series.  The Euclidean distances between alignments are then much less susceptable to pessimistic similarity measurements due to distortion in the time axis.  There is a price to pay for this, however, because dynamic time warping is quadratic in the length of the time series used."
      ]
    },
    {
      "cell_type": "markdown",
      "metadata": {
        "id": "nXdcTiuLClOv"
      },
      "source": [
        "Dynamic time warping works in the following way. Consider two time series $Q$ and $C$ of the same length $n$ where $$Q=q_1,q_2,...,q_n$$ and $$C=c_1,c_2,...,c_n$$ The first thing we do is construct an $n\\times n$ matrix whose $i,j^{th}$ element is the Euclidean distance between $q_i$ and $c_j$.  We want to find a path through this matrix that minimizes the cumulative distance.  This path then determines the optimal alignment between the two time series.  It should be noted that it is possible for one point in a time series to be mapped to multiple points in the other time series."
      ]
    },
    {
      "cell_type": "markdown",
      "metadata": {
        "id": "S8Q2w88hClOw"
      },
      "source": [
        "Let's call the path $W$ where $$W=w_1,w_2,...,w_K$$ where each element of $W$ represents the distance between a point $i$ in $Q$ and a point $j$ in $C$ i.e. $w_k=(q_i-c_j)^2$"
      ]
    },
    {
      "cell_type": "markdown",
      "metadata": {
        "id": "NsKYsurnClOx"
      },
      "source": [
        "So we want to find the path with the minimum Euclidean distance $$W^*=argmin_W(\\sqrt{\\sum_{k=1}^Kw_k})$$ The optimal path is found via dynamic programming, specifically the following recursive function. $$\\gamma(i,j)=d(q_i,c_j)+min ( \\gamma(i-1,j-1),\\gamma(i-1,j),\\gamma(i,j-1))$$ "
      ]
    },
    {
      "cell_type": "code",
      "metadata": {
        "id": "tRYoTqoHClOx"
      },
      "source": [
        "def DTWDistance(s1, s2):\n",
        "    DTW={}\n",
        "    \n",
        "    for i in range(len(s1)):\n",
        "        DTW[(i, -1)] = float('inf')\n",
        "    for i in range(len(s2)):\n",
        "        DTW[(-1, i)] = float('inf')\n",
        "    DTW[(-1, -1)] = 0\n",
        "\n",
        "    for i in range(len(s1)):\n",
        "        for j in range(len(s2)):\n",
        "            dist= (s1[i]-s2[j])**2\n",
        "            DTW[(i, j)] = dist + min(DTW[(i-1, j)],DTW[(i, j-1)], DTW[(i-1, j-1)])\n",
        "\t\t\n",
        "    return sqrt(DTW[len(s1)-1, len(s2)-1])"
      ],
      "execution_count": null,
      "outputs": []
    },
    {
      "cell_type": "markdown",
      "metadata": {
        "id": "ow5-_an0ClOx"
      },
      "source": [
        "Now let's compute the Euclidean distance between $ts1$ and $ts2$ using dynamic time warping."
      ]
    },
    {
      "cell_type": "code",
      "metadata": {
        "id": "-a2LszVEClOx",
        "outputId": "28e9c92a-eb50-4467-f67f-804f98d0c7c6"
      },
      "source": [
        "print DTWDistance(ts1,ts2)"
      ],
      "execution_count": null,
      "outputs": [
        {
          "output_type": "stream",
          "text": [
            "17.9297184686\n"
          ],
          "name": "stdout"
        }
      ]
    },
    {
      "cell_type": "markdown",
      "metadata": {
        "id": "LEChREXbClOy"
      },
      "source": [
        "and now the dynamic time warping distance between $ts1$ and $ts3$"
      ]
    },
    {
      "cell_type": "code",
      "metadata": {
        "id": "6EhKdyVKClOy",
        "outputId": "b2d1e822-4b42-4979-f70f-3ec90f65a817"
      },
      "source": [
        "print DTWDistance(ts1,ts3)"
      ],
      "execution_count": null,
      "outputs": [
        {
          "output_type": "stream",
          "text": [
            "21.5494948244\n"
          ],
          "name": "stdout"
        }
      ]
    },
    {
      "cell_type": "markdown",
      "metadata": {
        "id": "RBxkgqUwClOz"
      },
      "source": [
        "As you can see, our results have changed from when we only used the Euclidean distance measure.  Now, in agreement with our intuition, $ts2$ is shown to be more similar to $ts1$ than $ts3$ is."
      ]
    },
    {
      "cell_type": "markdown",
      "metadata": {
        "id": "CEaNmg7JClOz"
      },
      "source": [
        "###Speeding Up Dynamic Time Warping"
      ]
    },
    {
      "cell_type": "markdown",
      "metadata": {
        "id": "YwlZBTzcClOz"
      },
      "source": [
        "Dynamic time warping has a complexity of $O(nm)$ where $n$ is the length of the first time series and $m$ is the length of the second time series.  If you are performing dynamic time warping multiple times on long time series data, this can be prohibitively expensive.  However, there are a couple of ways to speed things up.  The first is to enforce a locality constraint.  This works under the assumption that it is unlikely for $q_i$ and $c_j$ to be matched if $i$ and $j$ are too far apart.  The threshold is determined by a window size $w$.  This way, only mappings within this window are considered which speeds up the inner loop. The following is the modified code which includes the window size $w$."
      ]
    },
    {
      "cell_type": "code",
      "metadata": {
        "id": "Tjbeu7CDClOz"
      },
      "source": [
        "def DTWDistance(s1, s2,w):\n",
        "    DTW={}\n",
        "    \n",
        "    w = max(w, abs(len(s1)-len(s2)))\n",
        "    \n",
        "    for i in range(-1,len(s1)):\n",
        "        for j in range(-1,len(s2)):\n",
        "            DTW[(i, j)] = float('inf')\n",
        "    DTW[(-1, -1)] = 0\n",
        "  \n",
        "    for i in range(len(s1)):\n",
        "        for j in range(max(0, i-w), min(len(s2), i+w)):\n",
        "            dist= (s1[i]-s2[j])**2\n",
        "            DTW[(i, j)] = dist + min(DTW[(i-1, j)],DTW[(i, j-1)], DTW[(i-1, j-1)])\n",
        "\t\t\n",
        "    return sqrt(DTW[len(s1)-1, len(s2)-1])"
      ],
      "execution_count": null,
      "outputs": []
    },
    {
      "cell_type": "markdown",
      "metadata": {
        "id": "TWUc_kTfClO1"
      },
      "source": [
        "Let's test this faster version."
      ]
    },
    {
      "cell_type": "code",
      "metadata": {
        "id": "sAjOhXy2ClO1",
        "outputId": "37eac20f-4c90-4f40-c720-6c68601f7448"
      },
      "source": [
        "print DTWDistance(ts1,ts2,10)"
      ],
      "execution_count": null,
      "outputs": [
        {
          "output_type": "stream",
          "text": [
            "18.5965518384\n"
          ],
          "name": "stdout"
        }
      ]
    },
    {
      "cell_type": "code",
      "metadata": {
        "id": "mNa69EjGClO1",
        "outputId": "c22669c7-0757-4d17-f038-b694fb11f7e9"
      },
      "source": [
        "print DTWDistance(ts1,ts3,10)"
      ],
      "execution_count": null,
      "outputs": [
        {
          "output_type": "stream",
          "text": [
            "22.4724828468\n"
          ],
          "name": "stdout"
        }
      ]
    },
    {
      "cell_type": "markdown",
      "metadata": {
        "id": "a2v8gH7aClO1"
      },
      "source": [
        "Another way to speed things up is to use the _LB Keogh_ lower bound of dynamic time warping.  It is defined as $$LBKeogh(Q,C)=\\sum_{i=1}^n (c_i-U_i)^2I(c_i > U_i)+(c_i-L_i)^2I(c_i < L_i)$$\n",
        "where $U_i$ and $L_i$ are upper and lower bounds for time series $Q$ which are defined as $U_i=max(q_{i-r}:q_{i+r})$ and $L_i=min(q_{i-r}:q_{i+r})$ for a reach $r$ and $I(\\cdot)$ is the indicator function. It can be implemented with the following function."
      ]
    },
    {
      "cell_type": "code",
      "metadata": {
        "id": "cnhRRRILClO2"
      },
      "source": [
        "def LB_Keogh(s1,s2,r):\n",
        "    LB_sum=0\n",
        "    for ind,i in enumerate(s1):\n",
        "        \n",
        "        lower_bound=min(s2[(ind-r if ind-r>=0 else 0):(ind+r)])\n",
        "        upper_bound=max(s2[(ind-r if ind-r>=0 else 0):(ind+r)])\n",
        "        \n",
        "        if i>upper_bound:\n",
        "            LB_sum=LB_sum+(i-upper_bound)**2\n",
        "        elif i<lower_bound:\n",
        "            LB_sum=LB_sum+(i-lower_bound)**2\n",
        "    \n",
        "    return sqrt(LB_sum)"
      ],
      "execution_count": null,
      "outputs": []
    },
    {
      "cell_type": "markdown",
      "metadata": {
        "id": "4JFPcjW1ClO3"
      },
      "source": [
        "Let's now test on $ts1$ and $ts2$"
      ]
    },
    {
      "cell_type": "code",
      "metadata": {
        "id": "IuM0NR_6ClO3",
        "outputId": "639228f0-e0b7-4c76-b99f-b6afe1950a4c"
      },
      "source": [
        "print LB_Keogh(ts1,ts2,20)"
      ],
      "execution_count": null,
      "outputs": [
        {
          "output_type": "stream",
          "text": [
            "6.25389235159\n"
          ],
          "name": "stdout"
        }
      ]
    },
    {
      "cell_type": "markdown",
      "metadata": {
        "id": "GacbYZiXClO4"
      },
      "source": [
        "and now $ts1$ and $ts3$."
      ]
    },
    {
      "cell_type": "code",
      "metadata": {
        "id": "XCDIrr0FClO4",
        "outputId": "1293fcf0-dec8-417d-a7d0-a773fae65daa"
      },
      "source": [
        "print LB_Keogh(ts1,ts3,20)"
      ],
      "execution_count": null,
      "outputs": [
        {
          "output_type": "stream",
          "text": [
            "19.9595478694\n"
          ],
          "name": "stdout"
        }
      ]
    },
    {
      "cell_type": "markdown",
      "metadata": {
        "id": "HTJ_H9xTClO4"
      },
      "source": [
        "The _LB Keogh_ lower bound method is linear whereas dynamic time warping is quadratic in complexity which make it very advantageous for searching over large sets of time series. "
      ]
    },
    {
      "cell_type": "markdown",
      "metadata": {
        "id": "3l7UqMqmClO4"
      },
      "source": [
        "##Classification and Clustering"
      ]
    },
    {
      "cell_type": "markdown",
      "metadata": {
        "id": "VsNmoczHClO5"
      },
      "source": [
        "Now that we have a reliable method to determine the similarity between two time series, we can use the k-NN algorithm for classification.  Empirically, the best results have come when $k=1$.  The following is the 1-NN algorithm that uses dynamic time warping Euclidean distance.  In this algorithm, $train$ is the training set of time series examples where the class that the time series belongs to is appended to the end of the time series.  $test$ is the test set whose corresponding classes you are trying to predict.  In this algorithm, for every time series in the test set, a search must be performed through all points in the training set so that the most similar point is found.  Given that dynamic time warping is quadratic, this can be very computationally expensive.  We can speed up classification using the _LB Keogh_ lower bound.  Computing _LB Keogh_ is much less expensive than performing dynamic time warping.  And since $LB Keogh(Q,C) \\leq DTW(Q,C)$ , we can eliminate time series that cannot possibly be more similar that the current most similar time series. In this way we are eliminating many unnecessary dynamic time warping computations."
      ]
    },
    {
      "cell_type": "code",
      "metadata": {
        "id": "vQZNyNZSClO5"
      },
      "source": [
        "from sklearn.metrics import classification_report\n",
        "\n",
        "def knn(train,test,w):\n",
        "    preds=[]\n",
        "    for ind,i in enumerate(test):\n",
        "        min_dist=float('inf')\n",
        "        closest_seq=[]\n",
        "        #print ind\n",
        "        for j in train:\n",
        "            if LB_Keogh(i[:-1],j[:-1],5)<min_dist:\n",
        "                dist=DTWDistance(i[:-1],j[:-1],w)\n",
        "                if dist<min_dist:\n",
        "                    min_dist=dist\n",
        "                    closest_seq=j\n",
        "        preds.append(closest_seq[-1])\n",
        "    return classification_report(test[:,-1],preds)"
      ],
      "execution_count": null,
      "outputs": []
    },
    {
      "cell_type": "markdown",
      "metadata": {
        "id": "p1E72sX-ClO7"
      },
      "source": [
        "Now let's test it on some data. We will use a window size of 4.  Although the code is sped up with the use of the _LB Keogh_ bound and the dynamic time warping locality contraint, it may still take a few minutes to run."
      ]
    },
    {
      "cell_type": "code",
      "metadata": {
        "id": "FOWMrzLCClO7",
        "outputId": "14cc0e45-642f-433c-b920-a670838ca005"
      },
      "source": [
        "train = np.genfromtxt('datasets/train.csv', delimiter='\\t')\n",
        "test = np.genfromtxt('datasets/test.csv', delimiter='\\t')\n",
        "print knn(train,test,4)"
      ],
      "execution_count": null,
      "outputs": [
        {
          "output_type": "stream",
          "text": [
            "             precision    recall  f1-score   support\n",
            "\n",
            "          1       1.00      0.96      0.98        50\n",
            "          2       0.96      1.00      0.98        50\n",
            "          3       1.00      1.00      1.00        50\n",
            "          4       0.98      1.00      0.99        50\n",
            "          5       1.00      1.00      1.00        50\n",
            "          6       1.00      0.98      0.99        50\n",
            "\n",
            "avg / total       0.99      0.99      0.99       300\n",
            "\n"
          ],
          "name": "stdout"
        }
      ]
    },
    {
      "cell_type": "markdown",
      "metadata": {
        "id": "IRV6zfB3ClO7"
      },
      "source": [
        "The same idea can also be applied to k-means clustering.  In this algorithm, the number of clusters is set _apriori_ and similar time series are clustered together."
      ]
    },
    {
      "cell_type": "code",
      "metadata": {
        "id": "0TfjJaD-ClO7"
      },
      "source": [
        "import random\n",
        "\n",
        "def k_means_clust(data,num_clust,num_iter,w=5):\n",
        "    centroids=random.sample(data,num_clust)\n",
        "    counter=0\n",
        "    for n in range(num_iter):\n",
        "        counter+=1\n",
        "        print counter\n",
        "        assignments={}\n",
        "        #assign data points to clusters\n",
        "        for ind,i in enumerate(data):\n",
        "            min_dist=float('inf')\n",
        "            closest_clust=None\n",
        "            for c_ind,j in enumerate(centroids):\n",
        "                if LB_Keogh(i,j,5)<min_dist:\n",
        "                    cur_dist=DTWDistance(i,j,w)\n",
        "                    if cur_dist<min_dist:\n",
        "                        min_dist=cur_dist\n",
        "                        closest_clust=c_ind\n",
        "            if closest_clust in assignments:\n",
        "                assignments[closest_clust].append(ind)\n",
        "            else:\n",
        "                assignments[closest_clust]=[]\n",
        "    \n",
        "        #recalculate centroids of clusters\n",
        "        for key in assignments:\n",
        "            clust_sum=0\n",
        "            for k in assignments[key]:\n",
        "                clust_sum=clust_sum+data[k]\n",
        "            centroids[key]=[m/len(assignments[key]) for m in clust_sum]\n",
        "    \n",
        "    return centroids\n",
        "        "
      ],
      "execution_count": null,
      "outputs": []
    },
    {
      "cell_type": "markdown",
      "metadata": {
        "id": "fENzMmHNClO7"
      },
      "source": [
        "Let's test it on the entire data set (i.e. the training set and the test set stacked together)."
      ]
    },
    {
      "cell_type": "code",
      "metadata": {
        "id": "hrvC-eUCClO8",
        "outputId": "a85c18d9-9c0a-4ef0-8e89-fb8cd718b650"
      },
      "source": [
        "train = np.genfromtxt('datasets/train.csv', delimiter='\\t')\n",
        "test = np.genfromtxt('datasets/test.csv', delimiter='\\t')\n",
        "data=np.vstack((train[:,:-1],test[:,:-1]))\n",
        "\n",
        "import matplotlib.pylab as plt\n",
        "\n",
        "centroids=k_means_clust(data,4,10,4)\n",
        "for i in centroids:\n",
        "    \n",
        "    plt.plot(i)\n",
        "\n",
        "plt.show()"
      ],
      "execution_count": null,
      "outputs": [
        {
          "output_type": "stream",
          "text": [
            "1\n",
            "2"
          ],
          "name": "stdout"
        },
        {
          "output_type": "stream",
          "text": [
            "\n",
            "3"
          ],
          "name": "stdout"
        },
        {
          "output_type": "stream",
          "text": [
            "\n",
            "4"
          ],
          "name": "stdout"
        },
        {
          "output_type": "stream",
          "text": [
            "\n",
            "5"
          ],
          "name": "stdout"
        },
        {
          "output_type": "stream",
          "text": [
            "\n",
            "6"
          ],
          "name": "stdout"
        },
        {
          "output_type": "stream",
          "text": [
            "\n",
            "7"
          ],
          "name": "stdout"
        },
        {
          "output_type": "stream",
          "text": [
            "\n",
            "8"
          ],
          "name": "stdout"
        },
        {
          "output_type": "stream",
          "text": [
            "\n",
            "9"
          ],
          "name": "stdout"
        },
        {
          "output_type": "stream",
          "text": [
            "\n",
            "10"
          ],
          "name": "stdout"
        },
        {
          "output_type": "stream",
          "text": [
            "\n"
          ],
          "name": "stdout"
        },
        {
          "output_type": "display_data",
          "data": {}
        }
      ]
    }
  ]
}